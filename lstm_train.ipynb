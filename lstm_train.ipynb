{
 "cells": [
  {
   "cell_type": "code",
   "execution_count": 48,
   "metadata": {},
   "outputs": [],
   "source": [
    "import keras\n",
    "import tensorflow as tf\n",
    "import numpy as np"
   ]
  },
  {
   "cell_type": "code",
   "execution_count": 278,
   "metadata": {},
   "outputs": [],
   "source": [
    "model = keras.Sequential([\n",
    "    keras.layers.ConvLSTM2D(10, (32,64), strides=(32,32), input_shape=(32, 32, 8192, 1), padding='valid', activation='tanh', recurrent_activation='hard_sigmoid',activity_regularizer=None, return_sequences=False, dropout=0.0, recurrent_dropout=0.0),\n",
    "    keras.layers.Flatten(),\n",
    "    keras.layers.Dense(units=2, activation='linear'),\n",
    "])\n",
    "\n",
    "lr = 0.001\n",
    "optimizer = keras.optimizers.Adam(lr)\n",
    "loss='categorical_crossentropy'\n",
    "model.compile(optimizer,loss, metrics=['accuracy'])"
   ]
  },
  {
   "cell_type": "code",
   "execution_count": 279,
   "metadata": {},
   "outputs": [
    {
     "name": "stdout",
     "output_type": "stream",
     "text": [
      "_________________________________________________________________\n",
      "Layer (type)                 Output Shape              Param #   \n",
      "=================================================================\n",
      "conv_lst_m2d_158 (ConvLSTM2D (None, 1, 255, 10)        901160    \n",
      "_________________________________________________________________\n",
      "flatten_19 (Flatten)         (None, 2550)              0         \n",
      "_________________________________________________________________\n",
      "dense_29 (Dense)             (None, 2)                 5102      \n",
      "=================================================================\n",
      "Total params: 906,262\n",
      "Trainable params: 906,262\n",
      "Non-trainable params: 0\n",
      "_________________________________________________________________\n"
     ]
    }
   ],
   "source": [
    "model.summary()"
   ]
  },
  {
   "cell_type": "code",
   "execution_count": 366,
   "metadata": {},
   "outputs": [],
   "source": [
    "from keras.layers import Input, ConvLSTM2D, RepeatVector,UpSampling2D,Reshape,Conv3D,Lambda,Flatten,Dense\n",
    "from keras.models import Model\n",
    "import keras.backend as k\n",
    "\n",
    "def stacklayer(decoded):\n",
    "    x = [decoded,decoded,decoded,decoded,decoded,decoded,decoded,decoded,decoded,decoded,decoded,decoded,decoded,decoded,decoded,decoded,decoded,decoded,decoded,decoded,decoded,decoded,decoded,decoded,decoded,decoded,decoded,decoded,decoded,decoded,decoded,decoded]\n",
    "    return k.stack(x,axis=1)\n",
    "\n",
    "inputs = Input(shape=(32, 32, 8192, 1))\n",
    "encoded = ConvLSTM2D(10, (32,32), strides=(32,32), padding='valid', activation='tanh', recurrent_activation='hard_sigmoid',activity_regularizer=None, return_sequences=False, dropout=0.0, recurrent_dropout=0.0)(inputs)\n",
    "encoded = Flatten()(encoded)\n",
    "encoded = Dense(2,activation = 'linear')(encoded)\n",
    "\n",
    "\n",
    "decoded = Dense(2560,activation = 'linear')(encoded)\n",
    "decoded = Reshape((-1,256,10))(decoded)\n",
    "decoded = UpSampling2D((32,32))(decoded)\n",
    "decoded = Lambda(stacklayer)(decoded)\n",
    "decoded = ConvLSTM2D(10, (32,32), strides=(1,1), padding='same', activation='tanh', recurrent_activation='hard_sigmoid',activity_regularizer=None, return_sequences=True, dropout=0.0, recurrent_dropout=0.0)(decoded)\n",
    "decoded = Conv3D(1,(32,32,1), strides=(1,1,1), padding='same',activation = 'sigmoid')(decoded)\n",
    "\n",
    "sequence_autoencoder = Model(inputs, decoded)\n",
    "encoder = Model(inputs, encoded)\n",
    "sequence_autoencoder.compile(optimizer='adam', loss='mse')"
   ]
  },
  {
   "cell_type": "code",
   "execution_count": 367,
   "metadata": {},
   "outputs": [
    {
     "name": "stdout",
     "output_type": "stream",
     "text": [
      "_________________________________________________________________\n",
      "Layer (type)                 Output Shape              Param #   \n",
      "=================================================================\n",
      "input_114 (InputLayer)       (None, 32, 32, 8192, 1)   0         \n",
      "_________________________________________________________________\n",
      "conv_lst_m2d_213 (ConvLSTM2D (None, 1, 256, 10)        450600    \n",
      "_________________________________________________________________\n",
      "flatten_27 (Flatten)         (None, 2560)              0         \n",
      "_________________________________________________________________\n",
      "dense_42 (Dense)             (None, 2)                 5122      \n",
      "=================================================================\n",
      "Total params: 455,722\n",
      "Trainable params: 455,722\n",
      "Non-trainable params: 0\n",
      "_________________________________________________________________\n"
     ]
    }
   ],
   "source": [
    "encoder.summary()"
   ]
  },
  {
   "cell_type": "code",
   "execution_count": 368,
   "metadata": {},
   "outputs": [
    {
     "name": "stdout",
     "output_type": "stream",
     "text": [
      "_________________________________________________________________\n",
      "Layer (type)                 Output Shape              Param #   \n",
      "=================================================================\n",
      "input_114 (InputLayer)       (None, 32, 32, 8192, 1)   0         \n",
      "_________________________________________________________________\n",
      "conv_lst_m2d_213 (ConvLSTM2D (None, 1, 256, 10)        450600    \n",
      "_________________________________________________________________\n",
      "flatten_27 (Flatten)         (None, 2560)              0         \n",
      "_________________________________________________________________\n",
      "dense_42 (Dense)             (None, 2)                 5122      \n",
      "_________________________________________________________________\n",
      "dense_43 (Dense)             (None, 2560)              7680      \n",
      "_________________________________________________________________\n",
      "reshape_58 (Reshape)         (None, 1, 256, 10)        0         \n",
      "_________________________________________________________________\n",
      "up_sampling2d_86 (UpSampling (None, 32, 8192, 10)      0         \n",
      "_________________________________________________________________\n",
      "lambda_14 (Lambda)           (None, 32, 32, 8192, 10)  0         \n",
      "_________________________________________________________________\n",
      "conv_lst_m2d_214 (ConvLSTM2D (None, 32, 32, 8192, 10)  819240    \n",
      "_________________________________________________________________\n",
      "conv3d_27 (Conv3D)           (None, 32, 32, 8192, 1)   10241     \n",
      "=================================================================\n",
      "Total params: 1,292,883\n",
      "Trainable params: 1,292,883\n",
      "Non-trainable params: 0\n",
      "_________________________________________________________________\n"
     ]
    }
   ],
   "source": [
    "sequence_autoencoder.summary()"
   ]
  },
  {
   "cell_type": "code",
   "execution_count": null,
   "metadata": {},
   "outputs": [],
   "source": []
  }
 ],
 "metadata": {
  "kernelspec": {
   "display_name": "Python 3",
   "language": "python",
   "name": "python3"
  },
  "language_info": {
   "codemirror_mode": {
    "name": "ipython",
    "version": 3
   },
   "file_extension": ".py",
   "mimetype": "text/x-python",
   "name": "python",
   "nbconvert_exporter": "python",
   "pygments_lexer": "ipython3",
   "version": "3.6.4"
  }
 },
 "nbformat": 4,
 "nbformat_minor": 2
}
